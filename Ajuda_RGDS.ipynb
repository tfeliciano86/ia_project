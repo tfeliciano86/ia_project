{
  "nbformat": 4,
  "nbformat_minor": 0,
  "metadata": {
    "colab": {
      "provenance": [],
      "authorship_tag": "ABX9TyN75Msd3xh7ZgLkBRQfyEwv",
      "include_colab_link": true
    },
    "kernelspec": {
      "name": "python3",
      "display_name": "Python 3"
    },
    "language_info": {
      "name": "python"
    }
  },
  "cells": [
    {
      "cell_type": "markdown",
      "metadata": {
        "id": "view-in-github",
        "colab_type": "text"
      },
      "source": [
        "<a href=\"https://colab.research.google.com/github/tfeliciano86/ia_project/blob/main/Ajuda_RGDS.ipynb\" target=\"_parent\"><img src=\"https://colab.research.google.com/assets/colab-badge.svg\" alt=\"Open In Colab\"/></a>"
      ]
    },
    {
      "cell_type": "code",
      "source": [
        "!pip install -q -U google-generativeai"
      ],
      "metadata": {
        "id": "b331IflAegKH"
      },
      "execution_count": 4,
      "outputs": []
    },
    {
      "cell_type": "code",
      "source": [
        "# Import the Python SDK\n",
        "import google.generativeai as genai\n",
        "from google.colab import userdata\n",
        "api_key = userdata.get('SECRET_KEY')\n",
        "genai.configure(api_key=api_key)\n",
        "import nltk\n",
        "from sklearn.feature_extraction.text import TfidfVectorizer\n",
        "from sklearn.metrics.pairwise import cosine_similarity"
      ],
      "metadata": {
        "id": "SVFB6Ycgeu3l"
      },
      "execution_count": 11,
      "outputs": []
    },
    {
      "cell_type": "code",
      "source": [
        "for m in genai.list_models():\n",
        "  if 'generateContent' in m.supported_generation_methods:\n",
        "    print(m.name)"
      ],
      "metadata": {
        "colab": {
          "base_uri": "https://localhost:8080/",
          "height": 138
        },
        "id": "fuAo8i99eybG",
        "outputId": "d13da365-9c65-4004-ec99-40ecd505b9e4"
      },
      "execution_count": 6,
      "outputs": [
        {
          "output_type": "stream",
          "name": "stdout",
          "text": [
            "models/gemini-1.0-pro\n",
            "models/gemini-1.0-pro-001\n",
            "models/gemini-1.0-pro-latest\n",
            "models/gemini-1.0-pro-vision-latest\n",
            "models/gemini-1.5-pro-latest\n",
            "models/gemini-pro\n",
            "models/gemini-pro-vision\n"
          ]
        }
      ]
    },
    {
      "cell_type": "code",
      "source": [
        "generation_config = {\n",
        "    \"candidate_count\": 1,\n",
        "    \"temperature\": 0.5\n",
        "      }"
      ],
      "metadata": {
        "id": "W7-eW321e5U5"
      },
      "execution_count": 7,
      "outputs": []
    },
    {
      "cell_type": "code",
      "source": [
        "safety_settings = {\n",
        "    \"HARASSMENT\": \"BLOCK_NONE\",\n",
        "    \"SEXUAL\": \"BLOCK_NONE\",\n",
        "    \"DANGEROUS\": \"BLOCK_NONE\",\n",
        "    \"HATE\": \"BLOCK_NONE\"\n",
        "    }\n",
        ""
      ],
      "metadata": {
        "id": "MvrCtrWofBWr"
      },
      "execution_count": 8,
      "outputs": []
    },
    {
      "cell_type": "code",
      "source": [
        "model = genai.GenerativeModel(model_name='gemini-1.0-pro',\n",
        "                              generation_config=generation_config,\n",
        "                              safety_settings=safety_settings)"
      ],
      "metadata": {
        "id": "fEqhRZucfFLc"
      },
      "execution_count": 9,
      "outputs": []
    },
    {
      "cell_type": "code",
      "source": [
        "\n",
        "# Lista de cidades do Rio Grande do Sul\n",
        "cidades_rs = {\n",
        "    1: \"Porto Alegre\",\n",
        "    2: \"Canoas\",\n",
        "    3: \"Caxias do Sul\",\n",
        "    4: \"Santa Maria\",\n",
        "    5: \"Pelotas\",\n",
        "    6: \"Gravataí\",\n",
        "    7: \"Viamão\",\n",
        "    8: \"Novo Hamburgo\",\n",
        "    9: \"São Leopoldo\",\n",
        "    10: \"Rio Grande\"\n",
        "    # Adicione mais cidades aqui, se necessário\n",
        "}\n",
        "\n",
        "# Base de dados de voluntários e suas ofertas de ajuda (completa)\n",
        "voluntarios = {\n",
        "    \"Maria\": {\"local\": \"Porto Alegre\", \"ajuda\": [\"Sede\", \"Fome\", \"Roupas\", \"Médica\"], \"contato\": \"maria@email.com\"},\n",
        "    \"João\": {\"local\": \"Canoas\", \"ajuda\": [\"Sede\", \"Fome\", \"Roupas\", \"Médica\", \"Transporte\"], \"contato\": \"joao@email.com\"},\n",
        "    \"Ana\": {\"local\": \"Caxias do Sul\", \"ajuda\": [\"Sede\", \"Fome\", \"Roupas\", \"Médica\", \"Acomodação\"], \"contato\": \"ana@email.com\"},\n",
        "    # ... adicione mais voluntários aqui, garantindo que cada cidade tenha pelo menos um voluntário\n",
        "    # que cubra todas as necessidades\n",
        "}\n",
        "\n",
        "# Função para processar a entrada do usuário\n",
        "def processar_entrada(mensagem):\n",
        "  tokens = nltk.word_tokenize(mensagem)\n",
        "  return tokens\n",
        "\n",
        "# Função para identificar a necessidade do usuário\n",
        "def identificar_necessidade(tokens):\n",
        "  necessidades = [\"Sede\", \"Fome\", \"Roupas\", \"Médica\"]\n",
        "  necessidade_detectada = None\n",
        "  for necessidade in necessidades:\n",
        "    if necessidade in tokens:\n",
        "      necessidade_detectada = necessidade\n",
        "      break\n",
        "  return necessidade_detectada\n",
        "\n",
        "# Função para encontrar voluntários correspondentes\n",
        "def encontrar_voluntarios(local, necessidade):\n",
        "  voluntarios_correspondentes = []\n",
        "  for nome, info in voluntarios.items():\n",
        "    if info[\"local\"] == local and necessidade in info[\"ajuda\"]:\n",
        "      voluntarios_correspondentes.append((nome, info[\"contato\"]))\n",
        "  return voluntarios_correspondentes\n",
        "\n",
        "# Loop principal do assistente virtual\n",
        "while True:\n",
        "  nome = input(\"Por favor, digite seu nome: \")\n",
        "\n",
        "  print(\"Em qual cidade você precisa de ajuda?\")\n",
        "  for numero, cidade in cidades_rs.items():\n",
        "    print(f\"{numero} - {cidade}\")\n",
        "  cidade_index = int(input(\"Digite o número correspondente à sua cidade: \"))\n",
        "  local = cidades_rs[cidade_index]\n",
        "\n",
        "  print(\"Qual o tipo de ajuda que você precisa?\")\n",
        "  print(\"1 - Sede\")\n",
        "  print(\"2 - Fome\")\n",
        "  print(\"3 - Roupas\")\n",
        "  print(\"4 - Médica\")\n",
        "  necessidade_input = input(\"Digite o número correspondente à sua necessidade: \")\n",
        "\n",
        "  # Mapear a entrada do usuário para a necessidade\n",
        "  necessidades = {\n",
        "      \"1\": \"Sede\",\n",
        "      \"2\": \"Fome\",\n",
        "      \"3\": \"Roupas\",\n",
        "      \"4\": \"Médica\"\n",
        "  }\n",
        "  necessidade = necessidades.get(necessidade_input)\n",
        "\n",
        "  # Encontrar voluntários correspondentes\n",
        "  voluntarios_correspondentes = encontrar_voluntarios(local, necessidade)\n",
        "\n",
        "  # Imprimir os resultados e enviar mensagem aos voluntários\n",
        "  if voluntarios_correspondentes:\n",
        "    print(f\"{nome}, os seguintes voluntários podem te ajudar em {local}:\")\n",
        "    for voluntario, contato in voluntarios_correspondentes:\n",
        "      print(f\"- {voluntario} ({contato})\")\n",
        "      # Simulação de envio de mensagem ao voluntário\n",
        "      print(f\"Enviando mensagem para {voluntario} com os dados de {nome}...\")\n",
        "      # Aqui você implementaria a lógica para enviar a mensagem de fato (e-mail, SMS, etc.)\n",
        "  else:\n",
        "    print(f\"{nome}, infelizmente não encontramos nenhum voluntário para te ajudar com {necessidade} em {local}.\")"
      ],
      "metadata": {
        "colab": {
          "base_uri": "https://localhost:8080/"
        },
        "id": "DnDAmK8efMzx",
        "outputId": "f21c48bd-5c7f-46db-b472-8cbea8741749"
      },
      "execution_count": null,
      "outputs": [
        {
          "output_type": "stream",
          "name": "stdout",
          "text": [
            "Por favor, digite seu nome: Thiago\n",
            "Em qual cidade você precisa de ajuda?\n",
            "1 - Porto Alegre\n",
            "2 - Canoas\n",
            "3 - Caxias do Sul\n",
            "4 - Santa Maria\n",
            "5 - Pelotas\n",
            "6 - Gravataí\n",
            "7 - Viamão\n",
            "8 - Novo Hamburgo\n",
            "9 - São Leopoldo\n",
            "10 - Rio Grande\n",
            "Digite o número correspondente à sua cidade: 3\n",
            "Qual o tipo de ajuda que você precisa?\n",
            "1 - Sede\n",
            "2 - Fome\n",
            "3 - Roupas\n",
            "4 - Médica\n",
            "Digite o número correspondente à sua necessidade: 1\n",
            "Thiago, os seguintes voluntários podem te ajudar em Caxias do Sul:\n",
            "- Ana (ana@email.com)\n",
            "Enviando mensagem para Ana com os dados de Thiago...\n"
          ]
        }
      ]
    }
  ]
}